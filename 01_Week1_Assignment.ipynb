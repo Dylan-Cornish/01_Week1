{
 "cells": [
  {
   "cell_type": "code",
   "execution_count": 2,
   "id": "be19399a",
   "metadata": {},
   "outputs": [
    {
     "name": "stdout",
     "output_type": "stream",
     "text": [
      "This summer I'm most excited about learning how to use Python to automate tasks at work!\n"
     ]
    }
   ],
   "source": [
    " print(\"This summer I'm most excited about learning how to use Python to automate tasks at work!\")\n",
    "\n",
    "# I spend way too much time digging through emails and spreadsheets and can't wait to be more efficient with Python \n",
    "\n"
   ]
  },
  {
   "cell_type": "code",
   "execution_count": null,
   "id": "f5b6db79",
   "metadata": {},
   "outputs": [],
   "source": []
  }
 ],
 "metadata": {
  "kernelspec": {
   "display_name": "Python 3",
   "language": "python",
   "name": "python3"
  },
  "language_info": {
   "codemirror_mode": {
    "name": "ipython",
    "version": 3
   },
   "file_extension": ".py",
   "mimetype": "text/x-python",
   "name": "python",
   "nbconvert_exporter": "python",
   "pygments_lexer": "ipython3",
   "version": "3.8.8"
  }
 },
 "nbformat": 4,
 "nbformat_minor": 5
}
